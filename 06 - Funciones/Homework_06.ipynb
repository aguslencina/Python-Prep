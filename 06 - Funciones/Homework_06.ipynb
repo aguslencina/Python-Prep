{
 "cells": [
  {
   "cell_type": "markdown",
   "metadata": {},
   "source": [
    "1) Crear una función que reciba un número como parámetro y devuelva si True si es primo y False si no lo es"
   ]
  },
  {
   "cell_type": "code",
   "execution_count": 25,
   "metadata": {},
   "outputs": [],
   "source": [
    "def es_Primo(num):\n",
    "    for i in range(2,int(num/2)+1):\n",
    "        if(num % i == 0):\n",
    "            return False\n",
    "    return True"
   ]
  },
  {
   "cell_type": "code",
   "execution_count": 28,
   "metadata": {},
   "outputs": [
    {
     "data": {
      "text/plain": [
       "True"
      ]
     },
     "execution_count": 28,
     "metadata": {},
     "output_type": "execute_result"
    }
   ],
   "source": [
    "es_Primo(1)"
   ]
  },
  {
   "cell_type": "markdown",
   "metadata": {},
   "source": [
    "2) Utilizando la función del punto 1, realizar otra función que reciba de parámetro una lista de números y devuelva sólo aquellos que son primos en otra lista"
   ]
  },
  {
   "cell_type": "code",
   "execution_count": 31,
   "metadata": {},
   "outputs": [],
   "source": [
    "def lista_Primos(lista):\n",
    "    lista_de_Primos = []\n",
    "    for i in lista:\n",
    "        if es_Primo(i) == True:\n",
    "            lista_de_Primos.append(i)\n",
    "    \n",
    "    return lista_de_Primos"
   ]
  },
  {
   "cell_type": "code",
   "execution_count": 36,
   "metadata": {},
   "outputs": [
    {
     "data": {
      "text/plain": [
       "[11, 13, 17, 19, 23, 29]"
      ]
     },
     "execution_count": 36,
     "metadata": {},
     "output_type": "execute_result"
    }
   ],
   "source": [
    "lista_de_nros = list(range(10,30))\n",
    "lista_Primos(lista_de_nros)"
   ]
  },
  {
   "cell_type": "markdown",
   "metadata": {},
   "source": [
    "3) Crear una función que al recibir una lista de números, devuelva el que más se repite y cuántas veces lo hace. Si hay más de un \"más repetido\", que devuelva cualquiera"
   ]
  },
  {
   "cell_type": "code",
   "execution_count": 43,
   "metadata": {},
   "outputs": [],
   "source": [
    "def valor_Modal(lista):\n",
    "    maximo = 0\n",
    "    num_max = 0\n",
    "    \n",
    "    if len(lista) == 0:\n",
    "        return None\n",
    "    \n",
    "    for i in lista:\n",
    "        cant_repeticiones = lista.count(i)\n",
    "        if cant_repeticiones > maximo:\n",
    "            maximo = cant_repeticiones\n",
    "            num_max = i\n",
    "            \n",
    "    return num_max, maximo"
   ]
  },
  {
   "cell_type": "code",
   "execution_count": 44,
   "metadata": {},
   "outputs": [
    {
     "data": {
      "text/plain": [
       "(1, 2)"
      ]
     },
     "execution_count": 44,
     "metadata": {},
     "output_type": "execute_result"
    }
   ],
   "source": [
    "lista_de_nros = [1,1,2,3,4,5,6,7,7]\n",
    "valor_Modal(lista_de_nros)"
   ]
  },
  {
   "cell_type": "markdown",
   "metadata": {},
   "source": [
    "4) A la función del punto 3, agregar un parámetro más, que permita elegir si se requiere el menor o el mayor de los mas repetidos."
   ]
  },
  {
   "cell_type": "code",
   "execution_count": null,
   "metadata": {},
   "outputs": [],
   "source": [
    "def valor_modal(lista, menor):\n",
    "\n",
    "    lista_unicos = []\n",
    "    lista_repeticiones = []\n",
    "    \n",
    "    if len(lista) == 0:\n",
    "        return None\n",
    "    \n",
    "    if (menor):\n",
    "        lista.sort()\n",
    "    else:\n",
    "        lista.sort(reverse = True)\n",
    "    \n",
    "    for elemento in lista:\n",
    "        if elemento in lista_unicos:\n",
    "            i = lista_unicos.index(elemento)\n",
    "            lista_repeticiones[i] += 1\n",
    "        else:\n",
    "            lista_unicos.append(elemento)\n",
    "            lista_repeticiones.append(1)\n",
    "            \n",
    "    moda = lista_unicos[0]\n",
    "    maximo = lista_repeticiones[0]\n",
    "    \n",
    "    for i, elemento in enumerate(lista_unicos):\n",
    "        if lista_repeticiones[i] > maximo:\n",
    "            moda = lista_unicos[i]\n",
    "            maximo = lista_repeticiones[i]\n",
    "            \n",
    "    return moda, maximo"
   ]
  },
  {
   "cell_type": "markdown",
   "metadata": {},
   "source": [
    "5) Crear una función que convierta entre grados Celsius, Farenheit y Kelvin<br>\n",
    "Fórmula 1\t: (°C × 9/5) + 32 = °F<br>\n",
    "Fórmula 2\t: °C + 273.15 = °K<br>\n",
    "Debe recibir 3 parámetros: el valor, la medida de orígen y la medida de destino"
   ]
  },
  {
   "cell_type": "code",
   "execution_count": 45,
   "metadata": {},
   "outputs": [],
   "source": [
    "def conversor_Temperatura(valor, medida_origen, medida_destino):\n",
    "    '''\n",
    "    Esta función convierte entre grados Celcius, Farenheit y Kelvin.\n",
    "    recibe 3 parámetros: el valor, la medida de origen y la medida de destino\n",
    "    '''\n",
    "    \n",
    "    if (medida_origen == \"celsius\"):\n",
    "        if (medida_destino == \"farenheit\"):\n",
    "            resultado = (valor * (9/5)) + 32\n",
    "        elif (medida_destino == \"kelvin\"):\n",
    "            resultado = valor + 273.15\n",
    "        else:\n",
    "            resultado = \"el valor ingresado no es correcto\"\n",
    "        \n",
    "    if (medida_origen == \"farenheit\"):\n",
    "        if (medida_destino == \"celsius\"):\n",
    "            resultado = (valor - 32) * (5/9)\n",
    "        elif (medida_destino == \"kelvin\"):\n",
    "            resultado = ((valor - 32) * (5/9)) + 273.15\n",
    "        else:\n",
    "            resultado = \"el valor ingresado no es correcto\"\n",
    "        \n",
    "    if (medida_origen == \"kelvin\"):\n",
    "        if (medida_destino == \"celsius\"):\n",
    "            resultado = valor - 273.15\n",
    "        elif (medida_destino == \"farenheit\"):\n",
    "            resultado = ((valor - 273.15)-9/5) +32\n",
    "        else:\n",
    "            resultado =  \"el valor ingresado no es correcto\"\n",
    "    \n",
    "    return resultado"
   ]
  },
  {
   "cell_type": "code",
   "execution_count": 47,
   "metadata": {},
   "outputs": [
    {
     "data": {
      "text/plain": [
       "0.0"
      ]
     },
     "execution_count": 47,
     "metadata": {},
     "output_type": "execute_result"
    }
   ],
   "source": [
    "conversor_Temperatura(32, \"farenheit\", \"celsius\")"
   ]
  },
  {
   "cell_type": "code",
   "execution_count": 48,
   "metadata": {},
   "outputs": [
    {
     "name": "stdout",
     "output_type": "stream",
     "text": [
      "1 grado Celsius a Celsius: el valor ingresado no es correcto\n",
      "1 grado Celsius a Kelvin: 274.15\n",
      "1 grado Celsius a Farenheit: 33.8\n",
      "1 grado Kelvin a Celsius: -272.15\n",
      "1 grado Kelvin a Kelvin: el valor ingresado no es correcto\n",
      "1 grado Kelvin a Farenheit: -241.95\n",
      "1 grado Farenheit a Celsius: -17.22222222222222\n",
      "1 grado Farenheit a Kelvin: 255.92777777777775\n",
      "1 grado Farenheit a Farenheit: el valor ingresado no es correcto\n"
     ]
    }
   ],
   "source": [
    "print('1 grado Celsius a Celsius:', conversor_Temperatura(1, 'celsius', 'celsius'))\n",
    "print('1 grado Celsius a Kelvin:', conversor_Temperatura(1, 'celsius', 'kelvin'))\n",
    "print('1 grado Celsius a Farenheit:', conversor_Temperatura(1, 'celsius', 'farenheit'))\n",
    "print('1 grado Kelvin a Celsius:', conversor_Temperatura(1, 'kelvin', 'celsius'))\n",
    "print('1 grado Kelvin a Kelvin:', conversor_Temperatura(1, 'kelvin', 'kelvin'))\n",
    "print('1 grado Kelvin a Farenheit:', conversor_Temperatura(1, 'kelvin', 'farenheit'))\n",
    "print('1 grado Farenheit a Celsius:', conversor_Temperatura(1, 'farenheit', 'celsius'))\n",
    "print('1 grado Farenheit a Kelvin:', conversor_Temperatura(1, 'farenheit', 'kelvin'))\n",
    "print('1 grado Farenheit a Farenheit:', conversor_Temperatura(1, 'farenheit', 'farenheit'))"
   ]
  },
  {
   "cell_type": "markdown",
   "metadata": {},
   "source": [
    "6) Iterando una lista con los tres valores posibles de temperatura que recibe la función del punto 5, hacer un print para cada combinación de los mismos:"
   ]
  },
  {
   "cell_type": "code",
   "execution_count": 49,
   "metadata": {},
   "outputs": [
    {
     "name": "stdout",
     "output_type": "stream",
     "text": [
      "1 grado celsius a celsius : el valor ingresado no es correcto\n",
      "1 grado celsius a kelvin : 274.15\n",
      "1 grado celsius a farenheit : 33.8\n",
      "1 grado kelvin a celsius : -272.15\n",
      "1 grado kelvin a kelvin : el valor ingresado no es correcto\n",
      "1 grado kelvin a farenheit : -241.95\n",
      "1 grado farenheit a celsius : -17.22222222222222\n",
      "1 grado farenheit a kelvin : 255.92777777777775\n",
      "1 grado farenheit a farenheit : el valor ingresado no es correcto\n"
     ]
    }
   ],
   "source": [
    "metricas = ['celsius', 'kelvin', 'farenheit']\n",
    "for i in range(0,3):\n",
    "    for j in range(0,3):\n",
    "        print('1 grado', metricas[i], 'a', metricas [j], ':', conversor_Temperatura(1,metricas[i], metricas[j]))"
   ]
  },
  {
   "cell_type": "markdown",
   "metadata": {},
   "source": [
    "7) Armar una función que devuelva el factorial de un número. Tener en cuenta que el usuario puede equivocarse y enviar de parámetro un número no entero o negativo"
   ]
  },
  {
   "cell_type": "code",
   "execution_count": 50,
   "metadata": {},
   "outputs": [],
   "source": [
    "def factorial(numero):\n",
    "    if (type(numero) != int):\n",
    "        return 'El numero debe ser un entero'\n",
    "    \n",
    "    if (numero < 0):\n",
    "        return 'El numero debe ser mayor que cero'\n",
    "    \n",
    "    if (numero > 1):\n",
    "        numero = numero * factorial(numero-1)\n",
    "    return numero"
   ]
  },
  {
   "cell_type": "code",
   "execution_count": 51,
   "metadata": {},
   "outputs": [
    {
     "name": "stdout",
     "output_type": "stream",
     "text": [
      "6\n"
     ]
    }
   ],
   "source": [
    "print(factorial(3))"
   ]
  }
 ],
 "metadata": {
  "kernelspec": {
   "display_name": "Python 3.10.7 64-bit",
   "language": "python",
   "name": "python3"
  },
  "language_info": {
   "codemirror_mode": {
    "name": "ipython",
    "version": 3
   },
   "file_extension": ".py",
   "mimetype": "text/x-python",
   "name": "python",
   "nbconvert_exporter": "python",
   "pygments_lexer": "ipython3",
   "version": "3.10.7"
  },
  "orig_nbformat": 4,
  "vscode": {
   "interpreter": {
    "hash": "110fe3fb9777db4ce1f884af3cc527a40b2c98427ad17781c021ef692bd3d28d"
   }
  }
 },
 "nbformat": 4,
 "nbformat_minor": 2
}
