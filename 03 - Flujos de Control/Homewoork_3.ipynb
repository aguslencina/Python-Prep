{
 "cells": [
  {
   "cell_type": "markdown",
   "metadata": {},
   "source": [
    "1. Crear una variable que contenga un elemento del conjunto de números enteros y luego imprimir por pantalla si es mayor o menor a cero"
   ]
  },
  {
   "cell_type": "code",
   "execution_count": 31,
   "metadata": {},
   "outputs": [
    {
     "name": "stdout",
     "output_type": "stream",
     "text": [
      "La variable es mayor que 0\n"
     ]
    }
   ],
   "source": [
    "#MIO\n",
    "variable1 = 5\n",
    "if (variable1 > 0):\n",
    "    print(\"La variable es mayor que 0\")\n",
    "else:\n",
    "    print(\"La variable es menor que cero\")"
   ]
  },
  {
   "cell_type": "markdown",
   "metadata": {},
   "source": [
    "2. Crear dos variables y un condicional que informe si son del mismo tipo de dato"
   ]
  },
  {
   "cell_type": "code",
   "execution_count": 32,
   "metadata": {},
   "outputs": [
    {
     "name": "stdout",
     "output_type": "stream",
     "text": [
      "no son el mismo tipo de dato\n"
     ]
    }
   ],
   "source": [
    "var1 = \"agustinaa\"\n",
    "var2 = 1999\n",
    "\n",
    "if (type(var1) == type(var2)):\n",
    "    print(\"Son el mismo tipo de dato\")\n",
    "else: print(\"no son el mismo tipo de dato\")"
   ]
  },
  {
   "cell_type": "markdown",
   "metadata": {},
   "source": [
    "3. Para los valores enteros del 1 al 20, imprimir por pantalla si es par o impar"
   ]
  },
  {
   "cell_type": "code",
   "execution_count": 33,
   "metadata": {},
   "outputs": [
    {
     "name": "stdout",
     "output_type": "stream",
     "text": [
      "El numero 1 es impar.\n",
      "El numero 2 es par.\n",
      "El numero 3 es impar.\n",
      "El numero 4 es par.\n",
      "El numero 5 es impar.\n",
      "El numero 6 es par.\n",
      "El numero 7 es impar.\n",
      "El numero 8 es par.\n",
      "El numero 9 es impar.\n",
      "El numero 10 es par.\n",
      "El numero 11 es impar.\n",
      "El numero 12 es par.\n",
      "El numero 13 es impar.\n",
      "El numero 14 es par.\n",
      "El numero 15 es impar.\n",
      "El numero 16 es par.\n",
      "El numero 17 es impar.\n",
      "El numero 18 es par.\n",
      "El numero 19 es impar.\n",
      "El numero 20 es par.\n"
     ]
    }
   ],
   "source": [
    "for n in range(1,21):\n",
    "    if (n%2 == 0):\n",
    "        print(f\"El numero {n} es par.\") \n",
    "    else:\n",
    "        print(f\"El numero {n} es impar.\")"
   ]
  },
  {
   "cell_type": "markdown",
   "metadata": {},
   "source": [
    "4. En un ciclo for mostrar para los valores entre 0 y 5 el resultado de elevarlo a la potencia igual a 3"
   ]
  },
  {
   "cell_type": "code",
   "execution_count": 34,
   "metadata": {},
   "outputs": [
    {
     "name": "stdout",
     "output_type": "stream",
     "text": [
      "La potencia de 0 = 0\n",
      "La potencia de 1 = 1\n",
      "La potencia de 2 = 8\n",
      "La potencia de 3 = 27\n",
      "La potencia de 4 = 64\n",
      "La potencia de 5 = 125\n"
     ]
    }
   ],
   "source": [
    "for i in range(0,6):\n",
    "    print(f\"La potencia de {i} = {pow(i,3)}\")"
   ]
  },
  {
   "cell_type": "markdown",
   "metadata": {},
   "source": [
    "5) Crear una variable que contenga un número entero y realizar un ciclo for la misma cantidad de ciclos"
   ]
  },
  {
   "cell_type": "code",
   "execution_count": 35,
   "metadata": {},
   "outputs": [
    {
     "name": "stdout",
     "output_type": "stream",
     "text": [
      "Ciclo Nro 0\n",
      "Ciclo Nro 1\n",
      "Ciclo Nro 2\n",
      "Ciclo Nro 3\n",
      "Ciclo Nro 4\n",
      "Ciclo Nro 5\n"
     ]
    }
   ],
   "source": [
    "var_a = 5\n",
    "for i in range(0,var_a+1):\n",
    "    print(f\"Ciclo Nro {i}\")"
   ]
  },
  {
   "cell_type": "markdown",
   "metadata": {},
   "source": [
    "6) Utilizar un ciclo while para realizar el factorial de un número guardado en una variable, sólo si la variable contiene un número entero mayor a 0"
   ]
  },
  {
   "cell_type": "code",
   "execution_count": 36,
   "metadata": {},
   "outputs": [
    {
     "name": "stdout",
     "output_type": "stream",
     "text": [
      "El factorial es 120\n"
     ]
    }
   ],
   "source": [
    "# n × (n−1)!\n",
    "n = 5\n",
    "if (type(n) == int):\n",
    "    if (n > 0):\n",
    "        factorial = n\n",
    "        while (n > 2):\n",
    "            n = n - 1\n",
    "            factorial = factorial * n\n",
    "        print(f\"El factorial es {factorial}\")\n",
    "    else:\n",
    "        print(\"Es un número entero pero no mayor a 0\")\n",
    "else:\n",
    "    print('La variable no es un entero')"
   ]
  },
  {
   "cell_type": "markdown",
   "metadata": {},
   "source": [
    "7) Crear un ciclo for dentro de un ciclo while"
   ]
  },
  {
   "cell_type": "code",
   "execution_count": 37,
   "metadata": {},
   "outputs": [
    {
     "name": "stdout",
     "output_type": "stream",
     "text": [
      "Ciclo while nro 2\n",
      "Ciclo FOR nro 1\n",
      "Ciclo while nro 3\n",
      "Ciclo FOR nro 1\n",
      "Ciclo while nro 3\n",
      "Ciclo FOR nro 2\n",
      "Ciclo while nro 4\n",
      "Ciclo FOR nro 1\n",
      "Ciclo while nro 4\n",
      "Ciclo FOR nro 2\n",
      "Ciclo while nro 4\n",
      "Ciclo FOR nro 3\n",
      "Ciclo while nro 5\n",
      "Ciclo FOR nro 1\n",
      "Ciclo while nro 5\n",
      "Ciclo FOR nro 2\n",
      "Ciclo while nro 5\n",
      "Ciclo FOR nro 3\n",
      "Ciclo while nro 5\n",
      "Ciclo FOR nro 4\n"
     ]
    }
   ],
   "source": [
    "n = 0\n",
    "\n",
    "while (n < 5):\n",
    "    n += 1\n",
    "    for i in range(1,n):\n",
    "        print(f'Ciclo while nro {n}')\n",
    "        print(f'Ciclo FOR nro {i}')\n"
   ]
  },
  {
   "cell_type": "markdown",
   "metadata": {},
   "source": [
    "8) Crear un ciclo while dentro de un ciclo for"
   ]
  },
  {
   "cell_type": "code",
   "execution_count": 38,
   "metadata": {},
   "outputs": [
    {
     "name": "stdout",
     "output_type": "stream",
     "text": [
      "Entra al ciclo nro 0 del for\n",
      "n = 5\n",
      "Dentro del ciclo while nro 4\n",
      "Dentro del ciclo while nro 3\n",
      "Dentro del ciclo while nro 2\n",
      "Dentro del ciclo while nro 1\n",
      "Dentro del ciclo while nro 0\n",
      "Entra al ciclo nro 1 del for\n",
      "n = 0\n",
      "Entra al ciclo nro 2 del for\n",
      "n = 0\n",
      "Entra al ciclo nro 3 del for\n",
      "n = 0\n",
      "Entra al ciclo nro 4 del for\n",
      "n = 0\n"
     ]
    }
   ],
   "source": [
    "n = 5\n",
    "for i in range(0, n):\n",
    "    print(f'Entra al ciclo nro {i} del for')\n",
    "    print(f'n = {n}')\n",
    "    while (n > 0):\n",
    "        n -= 1\n",
    "        print(f'Dentro del ciclo while nro {n}')\n",
    "    "
   ]
  },
  {
   "cell_type": "markdown",
   "metadata": {},
   "source": [
    "9) Imprimir los números primos existentes entre 0 y 30"
   ]
  },
  {
   "cell_type": "code",
   "execution_count": 39,
   "metadata": {},
   "outputs": [
    {
     "name": "stdout",
     "output_type": "stream",
     "text": [
      "0 es primo\n",
      "1 es primo\n",
      "2 es primo\n",
      "3 es primo\n",
      "5 es primo\n",
      "7 es primo\n",
      "11 es primo\n",
      "13 es primo\n",
      "17 es primo\n",
      "19 es primo\n",
      "23 es primo\n",
      "29 es primo\n"
     ]
    }
   ],
   "source": [
    "#Resolucioón clase\n",
    "for nro in range (0,31):\n",
    "    es_primo = True\n",
    "    for i in range(2,nro):\n",
    "        if (nro % i == 0):\n",
    "            es_primo= False\n",
    "            \n",
    "    if (es_primo):\n",
    "        print (nro, 'es primo')"
   ]
  },
  {
   "cell_type": "code",
   "execution_count": 40,
   "metadata": {},
   "outputs": [
    {
     "name": "stdout",
     "output_type": "stream",
     "text": [
      "1\n",
      "2\n",
      "3\n",
      "5\n",
      "7\n",
      "11\n",
      "13\n",
      "17\n",
      "19\n",
      "23\n",
      "29\n"
     ]
    }
   ],
   "source": [
    "for i in range(1, 31):\n",
    "    for j in range(2,i):\n",
    "        if (i%j == 0):\n",
    "            break;\n",
    "    else:\n",
    "        print(i)"
   ]
  },
  {
   "cell_type": "markdown",
   "metadata": {},
   "source": [
    "10) ¿Se puede mejorar el proceso del punto 9? Utilizar las sentencias break y/ó continue para tal fin"
   ]
  },
  {
   "cell_type": "code",
   "execution_count": 41,
   "metadata": {},
   "outputs": [
    {
     "name": "stdout",
     "output_type": "stream",
     "text": [
      "0 es primo\n",
      "1 es primo\n",
      "2 es primo\n",
      "3 es primo\n",
      "5 es primo\n",
      "7 es primo\n",
      "11 es primo\n",
      "13 es primo\n",
      "17 es primo\n",
      "19 es primo\n",
      "23 es primo\n",
      "29 es primo\n",
      "135\n"
     ]
    }
   ],
   "source": [
    "cant_ciclos_break = 0\n",
    "for nro in range (0,31):\n",
    "    es_primo = True\n",
    "    for i in range(2,nro):\n",
    "        cant_ciclos_break += 1 \n",
    "        if (nro % i == 0):\n",
    "            es_primo= False\n",
    "            break;\n",
    "    if (es_primo):\n",
    "        print (nro, 'es primo')\n",
    "        \n",
    "print(cant_ciclos_break)"
   ]
  },
  {
   "cell_type": "code",
   "execution_count": 42,
   "metadata": {},
   "outputs": [
    {
     "name": "stdout",
     "output_type": "stream",
     "text": [
      "0 es primo\n",
      "1 es primo\n",
      "2 es primo\n",
      "3 es primo\n",
      "5 es primo\n",
      "7 es primo\n",
      "11 es primo\n",
      "13 es primo\n",
      "17 es primo\n",
      "19 es primo\n",
      "23 es primo\n",
      "29 es primo\n",
      "406\n"
     ]
    }
   ],
   "source": [
    "cant_ciclos_sinBreak = 0\n",
    "for nro in range (0,31):\n",
    "    es_primo = True\n",
    "    for i in range(2,nro):\n",
    "        cant_ciclos_sinBreak += 1 \n",
    "        if (nro % i == 0):\n",
    "            es_primo= False\n",
    "    if (es_primo):\n",
    "        print (nro, 'es primo')\n",
    "        \n",
    "print(cant_ciclos_sinBreak)\n",
    "    "
   ]
  },
  {
   "cell_type": "markdown",
   "metadata": {},
   "source": [
    "11) En los puntos 9 y 10, se diseño un código que encuentra números primos y además se lo optimizó. ¿Es posible saber en qué medida se optimizó?"
   ]
  },
  {
   "cell_type": "code",
   "execution_count": 43,
   "metadata": {},
   "outputs": [
    {
     "name": "stdout",
     "output_type": "stream",
     "text": [
      "33.251231527093594 %\n"
     ]
    }
   ],
   "source": [
    "print(((cant_ciclos_break / cant_ciclos_sinBreak)*100) ,'%')"
   ]
  },
  {
   "cell_type": "markdown",
   "metadata": {},
   "source": [
    "12) Si la cantidad de números que se evalúa es mayor a treinta, esa optimización crece?"
   ]
  },
  {
   "cell_type": "code",
   "execution_count": 44,
   "metadata": {},
   "outputs": [
    {
     "name": "stdout",
     "output_type": "stream",
     "text": [
      "0 es primo\n",
      "1 es primo\n",
      "2 es primo\n",
      "3 es primo\n",
      "5 es primo\n",
      "7 es primo\n",
      "11 es primo\n",
      "13 es primo\n",
      "17 es primo\n",
      "19 es primo\n",
      "23 es primo\n",
      "29 es primo\n",
      "31 es primo\n",
      "37 es primo\n",
      "41 es primo\n",
      "43 es primo\n",
      "47 es primo\n",
      "53 es primo\n",
      "59 es primo\n",
      "61 es primo\n",
      "67 es primo\n",
      "71 es primo\n",
      "73 es primo\n",
      "79 es primo\n",
      "83 es primo\n",
      "89 es primo\n",
      "97 es primo\n",
      "1132\n"
     ]
    }
   ],
   "source": [
    "cant_ciclos_break = 0\n",
    "for nro in range (0,100):\n",
    "    es_primo = True\n",
    "    for i in range(2,nro):\n",
    "        cant_ciclos_break += 1 \n",
    "        if (nro % i == 0):\n",
    "            es_primo= False\n",
    "            break;\n",
    "    if (es_primo):\n",
    "        print (nro, 'es primo')\n",
    "        \n",
    "print(cant_ciclos_break)"
   ]
  },
  {
   "cell_type": "code",
   "execution_count": 45,
   "metadata": {},
   "outputs": [
    {
     "name": "stdout",
     "output_type": "stream",
     "text": [
      "0 es primo\n",
      "1 es primo\n",
      "2 es primo\n",
      "3 es primo\n",
      "5 es primo\n",
      "7 es primo\n",
      "11 es primo\n",
      "13 es primo\n",
      "17 es primo\n",
      "19 es primo\n",
      "23 es primo\n",
      "29 es primo\n",
      "31 es primo\n",
      "37 es primo\n",
      "41 es primo\n",
      "43 es primo\n",
      "47 es primo\n",
      "53 es primo\n",
      "59 es primo\n",
      "61 es primo\n",
      "67 es primo\n",
      "71 es primo\n",
      "73 es primo\n",
      "79 es primo\n",
      "83 es primo\n",
      "89 es primo\n",
      "97 es primo\n",
      "4753\n"
     ]
    }
   ],
   "source": [
    "cant_ciclos_sinBreak = 0\n",
    "for nro in range (0,100):\n",
    "    es_primo = True\n",
    "    for i in range(2,nro):\n",
    "        cant_ciclos_sinBreak += 1 \n",
    "        if (nro % i == 0):\n",
    "            es_primo= False\n",
    "    if (es_primo):\n",
    "        print (nro, 'es primo')\n",
    "        \n",
    "print(cant_ciclos_sinBreak)"
   ]
  },
  {
   "cell_type": "code",
   "execution_count": 46,
   "metadata": {},
   "outputs": [
    {
     "name": "stdout",
     "output_type": "stream",
     "text": [
      "23.81653692404797 %\n"
     ]
    }
   ],
   "source": [
    "print(((cant_ciclos_break / cant_ciclos_sinBreak)*100) ,'%')"
   ]
  },
  {
   "cell_type": "markdown",
   "metadata": {},
   "source": [
    "13) Aplicando continue, armar un ciclo while que solo imprima los valores divisibles por 12, dentro del rango de números de 100 a 300"
   ]
  },
  {
   "cell_type": "code",
   "execution_count": null,
   "metadata": {},
   "outputs": [],
   "source": []
  },
  {
   "cell_type": "code",
   "execution_count": 47,
   "metadata": {},
   "outputs": [
    {
     "name": "stdout",
     "output_type": "stream",
     "text": [
      "El número 108 es divisible por 12.\n",
      "El número 120 es divisible por 12.\n",
      "El número 132 es divisible por 12.\n",
      "El número 144 es divisible por 12.\n",
      "El número 156 es divisible por 12.\n",
      "El número 168 es divisible por 12.\n",
      "El número 180 es divisible por 12.\n",
      "El número 192 es divisible por 12.\n",
      "El número 204 es divisible por 12.\n",
      "El número 216 es divisible por 12.\n",
      "El número 228 es divisible por 12.\n",
      "El número 240 es divisible por 12.\n",
      "El número 252 es divisible por 12.\n",
      "El número 264 es divisible por 12.\n",
      "El número 276 es divisible por 12.\n",
      "El número 288 es divisible por 12.\n",
      "El número 300 es divisible por 12.\n"
     ]
    }
   ],
   "source": [
    "for i in range(100,301):\n",
    "    if (i%12 == 0):\n",
    "        print(f'El número {i} es divisible por 12.')"
   ]
  },
  {
   "cell_type": "markdown",
   "metadata": {},
   "source": [
    "14) Utilizar la función **input()** que permite hacer ingresos por teclado, para encontrar números primos y dar la opción al usario de buscar el siguiente"
   ]
  },
  {
   "cell_type": "code",
   "execution_count": 48,
   "metadata": {},
   "outputs": [
    {
     "name": "stdout",
     "output_type": "stream",
     "text": [
      "Es primo\n"
     ]
    }
   ],
   "source": [
    "a = int(input('Ingrese el número para saber si es primo'))\n",
    "es_primo = False\n",
    "for i in range(2,int(a/2)):\n",
    "    if (a%i) == 0:\n",
    "      print('No es primo')\n",
    "else:\n",
    "    print('Es primo')\n",
    "    \n",
    "rta = input('Desea saber el siguiente?')\n",
    "while (rta == \"si\"):\n",
    "    es_primo = False\n",
    "    while (not es_primo):\n",
    "        a += 1;\n",
    "        for i in range(2,int(a/2)):\n",
    "            if (a%i) == 0:\n",
    "                continue;\n",
    "        es_primo = True;\n",
    "    print(f'El siguiente primo es {a}.')\n",
    "    rta = input('Desea saber el siguiente?')\n",
    "    \n"
   ]
  },
  {
   "cell_type": "markdown",
   "metadata": {},
   "source": [
    "15) Crear un ciclo while que encuentre dentro del rango de 100 a 300 el primer número divisible por 3 y además múltiplo de 6"
   ]
  },
  {
   "cell_type": "code",
   "execution_count": null,
   "metadata": {},
   "outputs": [],
   "source": []
  }
 ],
 "metadata": {
  "kernelspec": {
   "display_name": "Python 3.10.5 64-bit",
   "language": "python",
   "name": "python3"
  },
  "language_info": {
   "codemirror_mode": {
    "name": "ipython",
    "version": 3
   },
   "file_extension": ".py",
   "mimetype": "text/x-python",
   "name": "python",
   "nbconvert_exporter": "python",
   "pygments_lexer": "ipython3",
   "version": "3.10.7"
  },
  "orig_nbformat": 4,
  "vscode": {
   "interpreter": {
    "hash": "110fe3fb9777db4ce1f884af3cc527a40b2c98427ad17781c021ef692bd3d28d"
   }
  }
 },
 "nbformat": 4,
 "nbformat_minor": 2
}
