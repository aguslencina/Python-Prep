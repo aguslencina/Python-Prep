{
 "cells": [
  {
   "cell_type": "markdown",
   "metadata": {},
   "source": [
    "1) Crear la clase vehículo que contenga los atributos:<br>\n",
    "Color<br>\n",
    "Si es moto, auto, camioneta ó camión<br>\n",
    "Cilindrada del motor"
   ]
  },
  {
   "cell_type": "code",
   "execution_count": 31,
   "metadata": {},
   "outputs": [],
   "source": [
    "class Vehiculo:\n",
    "    def __init__(self, color, tipo, cilindrada):\n",
    "        self.color = color\n",
    "        self.tipo = tipo\n",
    "        self.cilindrada = cilindrada\n",
    "        self.velocidad = 0\n",
    "        self.direccion = 0\n",
    "    \n",
    "    def acelerar(self, velocidad):\n",
    "        self.velocidad += velocidad\n",
    "    \n",
    "    def frenar(self, velocidad):\n",
    "        self.velocidad -= velocidad\n",
    "    \n",
    "    def doblar(self, grados):\n",
    "        self.direccion += grados\n",
    "    \n",
    "    def estado(self):\n",
    "        print('Velocidad:', self.velocidad)\n",
    "        print('Dirección:', self.direccion)\n",
    "        \n",
    "    def informacion(self):\n",
    "        print('Color:', self.color)\n",
    "        print('Tipo:', self.tipo)\n",
    "        print('Cilindrada:', self.cilindrada)\n",
    "        "
   ]
  },
  {
   "cell_type": "markdown",
   "metadata": {},
   "source": [
    "2) A la clase Vehiculo creada en el punto 1, agregar los siguientes métodos:<br>\n",
    "Acelerar<br>\n",
    "Frenar<br>\n",
    "Doblar<br>"
   ]
  },
  {
   "cell_type": "markdown",
   "metadata": {},
   "source": [
    "3) Instanciar 3 objetos de la clase vehículo y ejecutar sus métodos, probar luego el resultado"
   ]
  },
  {
   "cell_type": "code",
   "execution_count": 32,
   "metadata": {},
   "outputs": [],
   "source": [
    "vehiculo1 = Vehiculo('rojo', 'auto', 400)\n",
    "vehiculo2 = Vehiculo('blanco', 'camioneta', 500)\n",
    "vehiculo3 = Vehiculo('negro', 'auto', 400)"
   ]
  },
  {
   "cell_type": "code",
   "execution_count": 33,
   "metadata": {},
   "outputs": [],
   "source": [
    "vehiculo1.acelerar(60)\n",
    "vehiculo2.frenar(10)\n",
    "vehiculo3.doblar(20)"
   ]
  },
  {
   "cell_type": "markdown",
   "metadata": {},
   "source": [
    "4) Agregar a la clase Vehiculo, un método que muestre su estado, es decir, a que velocidad se encuentra y su dirección. Y otro método que muestre color, tipo y cilindrada"
   ]
  },
  {
   "cell_type": "code",
   "execution_count": 34,
   "metadata": {},
   "outputs": [
    {
     "name": "stdout",
     "output_type": "stream",
     "text": [
      "Velocidad: 60\n",
      "Dirección: 0\n"
     ]
    }
   ],
   "source": [
    "vehiculo1.estado()"
   ]
  },
  {
   "cell_type": "code",
   "execution_count": 35,
   "metadata": {},
   "outputs": [
    {
     "name": "stdout",
     "output_type": "stream",
     "text": [
      "Color: rojo\n",
      "Tipo: auto\n",
      "Cilindrada: 400\n"
     ]
    }
   ],
   "source": [
    "vehiculo1.informacion()"
   ]
  },
  {
   "cell_type": "markdown",
   "metadata": {},
   "source": [
    "5) Crear una clase que permita utilizar las funciones creadas en la práctica del módulo 6<br>\n",
    "Verificar Primo<br>\n",
    "Valor modal<br>\n",
    "Conversión grados<br>\n",
    "Factorial<br>"
   ]
  },
  {
   "cell_type": "code",
   "execution_count": 36,
   "metadata": {},
   "outputs": [],
   "source": [
    "class Herramientas:\n",
    "    def __init__(self) -> None:\n",
    "        pass\n",
    "    \n",
    "    def es_Primo(self, num):\n",
    "        for i in range(2,int(num/2)+1):\n",
    "            if(num % i == 0):\n",
    "                return False\n",
    "        return True\n",
    "    \n",
    "    def valor_Modal(self, lista):\n",
    "        maximo = 0\n",
    "        num_max = 0\n",
    "        \n",
    "        if len(lista) == 0:\n",
    "            return None\n",
    "        \n",
    "        for i in lista:\n",
    "            cant_repeticiones = lista.count(i)\n",
    "            if cant_repeticiones > maximo:\n",
    "                maximo = cant_repeticiones\n",
    "                num_max = i\n",
    "                \n",
    "        return num_max, maximo\n",
    "    \n",
    "    def conversor_Temperatura(self, valor, medida_origen, medida_destino):\n",
    "        '''\n",
    "        Esta función convierte entre grados Celcius, Farenheit y Kelvin.\n",
    "        recibe 3 parámetros: el valor, la medida de origen y la medida de destino\n",
    "        '''\n",
    "        \n",
    "        if (medida_origen == \"celsius\"):\n",
    "            if (medida_destino == \"farenheit\"):\n",
    "                resultado = (valor * (9/5)) + 32\n",
    "            elif (medida_destino == \"kelvin\"):\n",
    "                resultado = valor + 273.15\n",
    "            else:\n",
    "                resultado = \"el valor ingresado no es correcto\"\n",
    "            \n",
    "        if (medida_origen == \"farenheit\"):\n",
    "            if (medida_destino == \"celsius\"):\n",
    "                resultado = (valor - 32) * (5/9)\n",
    "            elif (medida_destino == \"kelvin\"):\n",
    "                resultado = ((valor - 32) * (5/9)) + 273.15\n",
    "            else:\n",
    "                resultado = \"el valor ingresado no es correcto\"\n",
    "            \n",
    "        if (medida_origen == \"kelvin\"):\n",
    "            if (medida_destino == \"celsius\"):\n",
    "                resultado = valor - 273.15\n",
    "            elif (medida_destino == \"farenheit\"):\n",
    "                resultado = ((valor - 273.15)-9/5) +32\n",
    "            else:\n",
    "                resultado =  \"el valor ingresado no es correcto\"\n",
    "        \n",
    "        return resultado\n",
    "    \n",
    "    def factorial(self, numero):\n",
    "        if(type(numero) != int):\n",
    "            return 'El numero debe ser un entero'\n",
    "        if(numero < 0):\n",
    "            return 'El numero debe ser pisitivo'\n",
    "        if (numero > 1):\n",
    "            numero = numero * self.factorial(numero - 1)\n",
    "        return numero"
   ]
  },
  {
   "cell_type": "markdown",
   "metadata": {},
   "source": [
    "6) Probar las funciones incorporadas en la clase del punto 5"
   ]
  },
  {
   "cell_type": "code",
   "execution_count": 37,
   "metadata": {},
   "outputs": [],
   "source": [
    "h = Herramientas()"
   ]
  },
  {
   "cell_type": "markdown",
   "metadata": {},
   "source": [
    "7) Es necesario que la clase creada en el punto 5 contenga una lista, sobre la cual se aplquen las funciones incorporadas"
   ]
  },
  {
   "cell_type": "markdown",
   "metadata": {},
   "source": [
    "8) Crear un archivo .py aparte y ubicar allí la clase generada en el punto anterior. Luego realizar la importación del módulo y probar alguna de sus funciones"
   ]
  }
 ],
 "metadata": {
  "kernelspec": {
   "display_name": "Python 3.10.7 64-bit",
   "language": "python",
   "name": "python3"
  },
  "language_info": {
   "codemirror_mode": {
    "name": "ipython",
    "version": 3
   },
   "file_extension": ".py",
   "mimetype": "text/x-python",
   "name": "python",
   "nbconvert_exporter": "python",
   "pygments_lexer": "ipython3",
   "version": "3.10.7"
  },
  "orig_nbformat": 4,
  "vscode": {
   "interpreter": {
    "hash": "110fe3fb9777db4ce1f884af3cc527a40b2c98427ad17781c021ef692bd3d28d"
   }
  }
 },
 "nbformat": 4,
 "nbformat_minor": 2
}
